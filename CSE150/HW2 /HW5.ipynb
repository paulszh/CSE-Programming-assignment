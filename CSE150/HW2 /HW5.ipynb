{
 "cells": [
  {
   "cell_type": "code",
   "execution_count": 2,
   "metadata": {
    "collapsed": false,
    "deletable": true,
    "editable": true
   },
   "outputs": [],
   "source": [
    "#file readin\n",
    "train = []\n",
    "with open('hw5train.txt','r') as trainfile:\n",
    "    for line in trainfile:\n",
    "        line = line[:-1].split()\n",
    "        train.append(line)\n",
    "\n",
    "\n",
    "test = []\n",
    "with open('hw5test.txt','r') as testfile:\n",
    "    for line in testfile:\n",
    "        line = line[:-1].split()\n",
    "        test.append(line)\n",
    "\n",
    "        "
   ]
  },
  {
   "cell_type": "code",
   "execution_count": 3,
   "metadata": {
    "collapsed": false,
    "deletable": true,
    "editable": true
   },
   "outputs": [
    {
     "data": {
      "text/plain": [
       "3630"
      ]
     },
     "execution_count": 3,
     "metadata": {},
     "output_type": "execute_result"
    }
   ],
   "source": [
    "len(train)"
   ]
  },
  {
   "cell_type": "code",
   "execution_count": 4,
   "metadata": {
    "collapsed": false,
    "deletable": true,
    "editable": true
   },
   "outputs": [],
   "source": [
    "#a times in s, b tims in t, count as a*b times\n",
    "def StringKernal(s, t, p):\n",
    "    total = 0\n",
    "    subs = {}\n",
    "    #go through t first\n",
    "    for i in range(len(t)-p+1):\n",
    "        sub = t[i:i+p]\n",
    "        if sub in subs:\n",
    "            subs[sub] += 1\n",
    "        else:\n",
    "            subs[sub] = 1\n",
    "    #print(subs)\n",
    "    \n",
    "    \n",
    "    for i in range(len(s)-p+1):\n",
    "        sub = s[i:i+p]\n",
    "        if sub in subs:\n",
    "            total += subs[sub]\n",
    "        #print(sub, total)\n",
    "    \n",
    "    return total\n",
    "\n",
    "\n",
    "    \n",
    "#StringKernal('abc','abcabc',2)\n",
    "    \n",
    "    "
   ]
  },
  {
   "cell_type": "code",
   "execution_count": 5,
   "metadata": {
    "collapsed": false,
    "deletable": true,
    "editable": true
   },
   "outputs": [
    {
     "data": {
      "text/plain": [
       "2"
      ]
     },
     "execution_count": 5,
     "metadata": {},
     "output_type": "execute_result"
    }
   ],
   "source": [
    "def ModifiedStringKernal(s, t, p):\n",
    "    total = 0\n",
    "    subs = []\n",
    "    #go through t first\n",
    "    for i in range(len(t)-p+1):\n",
    "        sub = t[i:i+p]\n",
    "        if sub in subs:\n",
    "            continue\n",
    "        else:\n",
    "            subs.append(sub)\n",
    "    occured = []\n",
    "    total = 0\n",
    "    for i in range(len(s)-p+1):\n",
    "        sub = s[i:i+p]\n",
    "        if sub in occured:\n",
    "            continue\n",
    "        elif sub in subs:\n",
    "            total += 1\n",
    "            occured.append(sub)\n",
    "    return total\n",
    "\n",
    "ModifiedStringKernal('abc','abcabc',2)\n",
    "        "
   ]
  },
  {
   "cell_type": "code",
   "execution_count": 6,
   "metadata": {
    "collapsed": true,
    "deletable": true,
    "editable": true
   },
   "outputs": [],
   "source": [
    "def KernalPerceptron(train, p):\n",
    "    xs = []\n",
    "    ys = []\n",
    "    for t in train:\n",
    "        x = t[0]\n",
    "        y = int(t[1])\n",
    "        dotproduct = 0\n",
    "        for i in range(len(xs)):\n",
    "            dotproduct += ys[i] * StringKernal(xs[i],x,p)\n",
    "            #print(dotproduct, xs[i],x,y)\n",
    "        if y * dotproduct <= 0:\n",
    "            xs.append(x)\n",
    "            ys.append(y)\n",
    "    return xs, ys\n"
   ]
  },
  {
   "cell_type": "code",
   "execution_count": 7,
   "metadata": {
    "collapsed": true,
    "deletable": true,
    "editable": true
   },
   "outputs": [],
   "source": [
    "def ModifiedKernalPerceptron(train, p):\n",
    "    xs = []\n",
    "    ys = []\n",
    "    for t in train:\n",
    "        x = t[0]\n",
    "        y = int(t[1])\n",
    "        dotproduct = 0\n",
    "        for i in range(len(xs)):\n",
    "            dotproduct += ys[i] * ModifiedStringKernal(xs[i],x,p)\n",
    "            #print(dotproduct, xs[i],x,y)\n",
    "        if y * dotproduct <= 0:\n",
    "            xs.append(x)\n",
    "            ys.append(y)\n",
    "    return xs, ys\n"
   ]
  },
  {
   "cell_type": "code",
   "execution_count": 8,
   "metadata": {
    "collapsed": true,
    "deletable": true,
    "editable": true
   },
   "outputs": [],
   "source": [
    "def Predict(test, xs, ys, p):\n",
    "    error = 0\n",
    "    for t in test:\n",
    "        x = t[0]\n",
    "        y = int(t[1])\n",
    "        dotproduct = 0\n",
    "        for i in range(len(xs)):\n",
    "            dotproduct += ys[i] * StringKernal(xs[i],x,p)\n",
    "            #print(y * dotproduct)\n",
    "        \n",
    "        if dotproduct < 0:\n",
    "            predict = -1\n",
    "        else:\n",
    "            predict = 1\n",
    "        #print(predict, y)\n",
    "        if predict != y:\n",
    "            error += 1\n",
    "    return round(error/len(test),3)\n",
    "    \n",
    "            "
   ]
  },
  {
   "cell_type": "code",
   "execution_count": 9,
   "metadata": {
    "collapsed": true,
    "deletable": true,
    "editable": true
   },
   "outputs": [],
   "source": [
    "def ModifiedPredict(test, xs, ys, p):\n",
    "    error = 0\n",
    "    for t in test:\n",
    "        x = t[0]\n",
    "        y = int(t[1])\n",
    "        dotproduct = 0\n",
    "        for i in range(len(xs)):\n",
    "            dotproduct += ys[i] * ModifiedStringKernal(xs[i],x,p)\n",
    "            #print(y * dotproduct)\n",
    "        \n",
    "        if dotproduct < 0:\n",
    "            predict = -1\n",
    "        else:\n",
    "            predict = 1\n",
    "        #print(predict, y)\n",
    "        if predict != y:\n",
    "            error += 1\n",
    "    return round(error/len(test),3)\n",
    "    \n",
    "            "
   ]
  },
  {
   "cell_type": "code",
   "execution_count": 97,
   "metadata": {
    "collapsed": false,
    "deletable": true,
    "editable": true
   },
   "outputs": [],
   "source": [
    "xs, ys = ModifiedKernalPerceptron(train,2)"
   ]
  },
  {
   "cell_type": "code",
   "execution_count": 98,
   "metadata": {
    "collapsed": false,
    "deletable": true,
    "editable": true
   },
   "outputs": [
    {
     "data": {
      "text/plain": [
       "0.082"
      ]
     },
     "execution_count": 98,
     "metadata": {},
     "output_type": "execute_result"
    }
   ],
   "source": [
    "ModifiedPredict(train, xs, ys, 2)"
   ]
  },
  {
   "cell_type": "code",
   "execution_count": 80,
   "metadata": {
    "collapsed": false,
    "deletable": true,
    "editable": true,
    "scrolled": true
   },
   "outputs": [
    {
     "name": "stdout",
     "output_type": "stream",
     "text": [
      "training error for p=3 : 0.013\n",
      "test error for p=3 : 0.042\n",
      "training error for p=4 : 0.009\n",
      "test error for p=4 : 0.034\n",
      "training error for p=5 : 0.007\n",
      "test error for p=5 : 0.061\n"
     ]
    }
   ],
   "source": [
    "for i in range(3, 6):\n",
    "    xs, ys = KernalPerceptron(train,i)\n",
    "    print(\"training error for p={} :\".format(i), Predict(train, xs, ys,i))\n",
    "    print(\"test error for p={} :\".format(i), Predict(test, xs, ys, i))"
   ]
  },
  {
   "cell_type": "code",
   "execution_count": 99,
   "metadata": {
    "collapsed": false,
    "deletable": true,
    "editable": true,
    "scrolled": true
   },
   "outputs": [
    {
     "name": "stdout",
     "output_type": "stream",
     "text": [
      "training error using ModifiedPerceptron for p=3 : 0.012\n",
      "test error using ModifiedPerceptron for p=3 : 0.054\n",
      "training error using ModifiedPerceptron for p=4 : 0.009\n",
      "test error using ModifiedPerceptron for p=4 : 0.036\n",
      "training error using ModifiedPerceptron for p=5 : 0.007\n",
      "test error using ModifiedPerceptron for p=5 : 0.061\n"
     ]
    }
   ],
   "source": [
    "for i in range(3, 6):\n",
    "    xs, ys = ModifiedKernalPerceptron(train,i)\n",
    "    print(\"training error using ModifiedPerceptron for p={} :\".format(i), ModifiedPredict(train, xs, ys,i))\n",
    "    print(\"test error using ModifiedPerceptron for p={} :\".format(i), ModifiedPredict(test, xs, ys, i))"
   ]
  },
  {
   "cell_type": "code",
   "execution_count": 43,
   "metadata": {
    "collapsed": false,
    "deletable": true,
    "editable": true
   },
   "outputs": [
    {
     "data": {
      "text/plain": [
       "7"
      ]
     },
     "execution_count": 43,
     "metadata": {},
     "output_type": "execute_result"
    }
   ],
   "source": [
    "len(ys)"
   ]
  },
  {
   "cell_type": "code",
   "execution_count": 17,
   "metadata": {
    "collapsed": false,
    "deletable": true,
    "editable": true
   },
   "outputs": [
    {
     "data": {
      "text/plain": [
       "0.061"
      ]
     },
     "execution_count": 17,
     "metadata": {},
     "output_type": "execute_result"
    }
   ],
   "source": [
    "#Problem 3\n",
    "xs, ys = KernalPerceptron(train, 5)\n",
    "Predict(test, xs, ys, 5)"
   ]
  },
  {
   "cell_type": "code",
   "execution_count": 44,
   "metadata": {
    "collapsed": false,
    "deletable": true,
    "editable": true
   },
   "outputs": [
    {
     "data": {
      "text/plain": [
       "[-1, 1, 1, -1, 1, -1, 1]"
      ]
     },
     "execution_count": 44,
     "metadata": {},
     "output_type": "execute_result"
    }
   ],
   "source": [
    "ys"
   ]
  },
  {
   "cell_type": "code",
   "execution_count": 54,
   "metadata": {
    "collapsed": false,
    "deletable": true,
    "editable": true
   },
   "outputs": [
    {
     "data": {
      "text/plain": [
       "[['TFGAGEADCGLRPLFEKKQVQDQTEKELFESYIEGRXIVEGQDAEVGLSPWQVMLFRKSPQELLCGASLISDRWVLTAAHCLLYPPWDKNFTVDDLLVRIGKHSRTRYERKVEKISMLDKIYIHPRYNWKENLDRDIALLKLKRPIELSDYIHPVCLPDKQTAAKLLHAGFKGRVTGWGNRRETWTTSVAEVQPSVLQVVNLPLVERPVCKASTRIRITDNMFCAGYKPGEGKRGDACEGDSGGPFVMKSPYNNRWYQMGIVSWGEGCDRDGKYGFYTHVFRLKKWIQKVIDRLGS',\n",
       "  '-1']]"
      ]
     },
     "execution_count": 54,
     "metadata": {},
     "output_type": "execute_result"
    }
   ],
   "source": [
    "train[:1]"
   ]
  },
  {
   "cell_type": "code",
   "execution_count": 28,
   "metadata": {
    "collapsed": false,
    "deletable": true,
    "editable": true
   },
   "outputs": [
    {
     "data": {
      "text/plain": [
       "[('WDTAG', 3),\n",
       " ('KVGPD', 3),\n",
       " ('LFLNK', 3),\n",
       " ('GKSSL', 3),\n",
       " ('DTAGQ', 3),\n",
       " ('KVGKT', 2),\n",
       " ('GLYEG', 2),\n",
       " ('GKTTL', 2),\n",
       " ('GKTTI', 2),\n",
       " ('VMPQT', 2)]"
      ]
     },
     "execution_count": 28,
     "metadata": {},
     "output_type": "execute_result"
    }
   ],
   "source": [
    "#Problem 3\n",
    "dic = {}\n",
    "for i in range(len(xs)):\n",
    "    x = xs[i]\n",
    "    y = ys[i]\n",
    "    for j in range(len(x)-5+1):\n",
    "        sub = x[j:j+5]\n",
    "        if sub in dic:\n",
    "            dic[sub] += y\n",
    "        else:\n",
    "            dic[sub] = y\n",
    "        #print(sub, dic[sub])\n",
    "\n",
    "sorted(dic.items(), key=lambda x: x[1],reverse=True)[:10]\n",
    "\n",
    "\n",
    "    "
   ]
  },
  {
   "cell_type": "code",
   "execution_count": 16,
   "metadata": {
    "collapsed": false,
    "deletable": true,
    "editable": true
   },
   "outputs": [
    {
     "data": {
      "text/plain": [
       "474"
      ]
     },
     "execution_count": 16,
     "metadata": {},
     "output_type": "execute_result"
    }
   ],
   "source": [
    "len(xs)"
   ]
  },
  {
   "cell_type": "code",
   "execution_count": 20,
   "metadata": {
    "collapsed": false,
    "deletable": true,
    "editable": true
   },
   "outputs": [
    {
     "data": {
      "text/plain": [
       "474"
      ]
     },
     "execution_count": 20,
     "metadata": {},
     "output_type": "execute_result"
    }
   ],
   "source": [
    "len(ys)"
   ]
  },
  {
   "cell_type": "code",
   "execution_count": null,
   "metadata": {
    "collapsed": true,
    "deletable": true,
    "editable": true
   },
   "outputs": [],
   "source": []
  }
 ],
 "metadata": {
  "anaconda-cloud": {},
  "kernelspec": {
   "display_name": "Python 3",
   "language": "python",
   "name": "python3"
  },
  "language_info": {
   "codemirror_mode": {
    "name": "ipython",
    "version": 3
   },
   "file_extension": ".py",
   "mimetype": "text/x-python",
   "name": "python",
   "nbconvert_exporter": "python",
   "pygments_lexer": "ipython3",
   "version": "3.6.0"
  }
 },
 "nbformat": 4,
 "nbformat_minor": 1
}
